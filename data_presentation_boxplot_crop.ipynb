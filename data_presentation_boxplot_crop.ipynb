{
 "cells": [
  {
   "cell_type": "markdown",
   "metadata": {},
   "source": [
    "#Purpose: Data exploration (using boxplot graph)\n",
    "#Date:May 9, 2019 \n",
    "#By:Lucy Njoki\n",
    "\n",
    "#reshaping data  \n",
    "*converting data wide format to long format\n",
    "*function:gather{tidyr}\n",
    "\n",
    "#boxplot\n",
    "*group_by(X):draws the layer based on the variable x ie number of  box plots = number of levels of the variable X\n",
    "*geom_boxplot:\n",
    "-creates a layer with box-whisker diagram\n",
    "-output:width of the boxplot,ymin(lower whisker),lower(25% Quantile),middle(median),upper(75%     Quantile),ymax(upper whisker)\n"
   ]
  },
  {
   "cell_type": "code",
   "execution_count": 2,
   "metadata": {},
   "outputs": [],
   "source": [
    "#clearing the environment\n",
    "rm(list = ls())"
   ]
  },
  {
   "cell_type": "code",
   "execution_count": 3,
   "metadata": {},
   "outputs": [
    {
     "name": "stderr",
     "output_type": "stream",
     "text": [
      "\n",
      "Attaching package: 'dplyr'\n",
      "\n",
      "The following objects are masked from 'package:plyr':\n",
      "\n",
      "    arrange, count, desc, failwith, id, mutate, rename, summarise,\n",
      "    summarize\n",
      "\n",
      "The following objects are masked from 'package:stats':\n",
      "\n",
      "    filter, lag\n",
      "\n",
      "The following objects are masked from 'package:base':\n",
      "\n",
      "    intersect, setdiff, setequal, union\n",
      "\n",
      "\n",
      "Attaching package: 'data.table'\n",
      "\n",
      "The following objects are masked from 'package:dplyr':\n",
      "\n",
      "    between, first, last\n",
      "\n",
      "Loading required package: car\n",
      "Loading required package: carData\n",
      "\n",
      "Attaching package: 'car'\n",
      "\n",
      "The following object is masked from 'package:dplyr':\n",
      "\n",
      "    recode\n",
      "\n",
      "Loading required package: lmtest\n",
      "Loading required package: zoo\n",
      "\n",
      "Attaching package: 'zoo'\n",
      "\n",
      "The following objects are masked from 'package:base':\n",
      "\n",
      "    as.Date, as.Date.numeric\n",
      "\n",
      "Loading required package: sandwich\n",
      "Loading required package: survival\n",
      "\n",
      "Attaching package: 'kableExtra'\n",
      "\n",
      "The following object is masked from 'package:dplyr':\n",
      "\n",
      "    group_rows\n",
      "\n",
      "\n",
      "Attaching package: 'lubridate'\n",
      "\n",
      "The following objects are masked from 'package:data.table':\n",
      "\n",
      "    hour, isoweek, mday, minute, month, quarter, second, wday, week,\n",
      "    yday, year\n",
      "\n",
      "The following object is masked from 'package:plyr':\n",
      "\n",
      "    here\n",
      "\n",
      "The following object is masked from 'package:base':\n",
      "\n",
      "    date\n",
      "\n",
      "-- \u001b[1mAttaching packages\u001b[22m --------------------------------------- tidyverse 1.2.1 --\n",
      "\u001b[32mv\u001b[39m \u001b[34mggplot2\u001b[39m 3.1.1     \u001b[32mv\u001b[39m \u001b[34mreadr  \u001b[39m 1.3.1\n",
      "\u001b[32mv\u001b[39m \u001b[34mtibble \u001b[39m 2.0.1     \u001b[32mv\u001b[39m \u001b[34mpurrr  \u001b[39m 0.3.0\n",
      "\u001b[32mv\u001b[39m \u001b[34mtidyr  \u001b[39m 0.8.2     \u001b[32mv\u001b[39m \u001b[34mstringr\u001b[39m 1.4.0\n",
      "\u001b[32mv\u001b[39m \u001b[34mggplot2\u001b[39m 3.1.1     \u001b[32mv\u001b[39m \u001b[34mforcats\u001b[39m 0.3.0\n",
      "-- \u001b[1mConflicts\u001b[22m ------------------------------------------ tidyverse_conflicts() --\n",
      "\u001b[31mx\u001b[39m \u001b[34mdplyr\u001b[39m::\u001b[32marrange()\u001b[39m         masks \u001b[34mplyr\u001b[39m::arrange()\n",
      "\u001b[31mx\u001b[39m \u001b[34mlubridate\u001b[39m::\u001b[32mas.difftime()\u001b[39m masks \u001b[34mbase\u001b[39m::as.difftime()\n",
      "\u001b[31mx\u001b[39m \u001b[34mdata.table\u001b[39m::\u001b[32mbetween()\u001b[39m    masks \u001b[34mdplyr\u001b[39m::between()\n",
      "\u001b[31mx\u001b[39m \u001b[34mreadr\u001b[39m::\u001b[32mcol_factor()\u001b[39m      masks \u001b[34mscales\u001b[39m::col_factor()\n",
      "\u001b[31mx\u001b[39m \u001b[34mpurrr\u001b[39m::\u001b[32mcompact()\u001b[39m         masks \u001b[34mplyr\u001b[39m::compact()\n",
      "\u001b[31mx\u001b[39m \u001b[34mdplyr\u001b[39m::\u001b[32mcount()\u001b[39m           masks \u001b[34mplyr\u001b[39m::count()\n",
      "\u001b[31mx\u001b[39m \u001b[34mlubridate\u001b[39m::\u001b[32mdate()\u001b[39m        masks \u001b[34mbase\u001b[39m::date()\n",
      "\u001b[31mx\u001b[39m \u001b[34mpurrr\u001b[39m::\u001b[32mdiscard()\u001b[39m         masks \u001b[34mscales\u001b[39m::discard()\n",
      "\u001b[31mx\u001b[39m \u001b[34mdplyr\u001b[39m::\u001b[32mfailwith()\u001b[39m        masks \u001b[34mplyr\u001b[39m::failwith()\n",
      "\u001b[31mx\u001b[39m \u001b[34mdplyr\u001b[39m::\u001b[32mfilter()\u001b[39m          masks \u001b[34mstats\u001b[39m::filter()\n",
      "\u001b[31mx\u001b[39m \u001b[34mdata.table\u001b[39m::\u001b[32mfirst()\u001b[39m      masks \u001b[34mdplyr\u001b[39m::first()\n",
      "\u001b[31mx\u001b[39m \u001b[34mpurrr\u001b[39m::\u001b[32mflatten()\u001b[39m         masks \u001b[34mjsonlite\u001b[39m::flatten()\n",
      "\u001b[31mx\u001b[39m \u001b[34mkableExtra\u001b[39m::\u001b[32mgroup_rows()\u001b[39m masks \u001b[34mdplyr\u001b[39m::group_rows()\n",
      "\u001b[31mx\u001b[39m \u001b[34mlubridate\u001b[39m::\u001b[32mhere()\u001b[39m        masks \u001b[34mplyr\u001b[39m::here()\n",
      "\u001b[31mx\u001b[39m \u001b[34mlubridate\u001b[39m::\u001b[32mhour()\u001b[39m        masks \u001b[34mdata.table\u001b[39m::hour()\n",
      "\u001b[31mx\u001b[39m \u001b[34mdplyr\u001b[39m::\u001b[32mid()\u001b[39m              masks \u001b[34mplyr\u001b[39m::id()\n",
      "\u001b[31mx\u001b[39m \u001b[34mlubridate\u001b[39m::\u001b[32mintersect()\u001b[39m   masks \u001b[34mbase\u001b[39m::intersect()\n",
      "\u001b[31mx\u001b[39m \u001b[34mlubridate\u001b[39m::\u001b[32misoweek()\u001b[39m     masks \u001b[34mdata.table\u001b[39m::isoweek()\n",
      "\u001b[31mx\u001b[39m \u001b[34mdplyr\u001b[39m::\u001b[32mlag()\u001b[39m             masks \u001b[34mstats\u001b[39m::lag()\n",
      "\u001b[31mx\u001b[39m \u001b[34mdata.table\u001b[39m::\u001b[32mlast()\u001b[39m       masks \u001b[34mdplyr\u001b[39m::last()\n",
      "\u001b[31mx\u001b[39m \u001b[34mlubridate\u001b[39m::\u001b[32mmday()\u001b[39m        masks \u001b[34mdata.table\u001b[39m::mday()\n",
      "\u001b[31mx\u001b[39m \u001b[34mlubridate\u001b[39m::\u001b[32mminute()\u001b[39m      masks \u001b[34mdata.table\u001b[39m::minute()\n",
      "\u001b[31mx\u001b[39m \u001b[34mlubridate\u001b[39m::\u001b[32mmonth()\u001b[39m       masks \u001b[34mdata.table\u001b[39m::month()\n",
      "\u001b[31mx\u001b[39m \u001b[34mdplyr\u001b[39m::\u001b[32mmutate()\u001b[39m          masks \u001b[34mplyr\u001b[39m::mutate()\n",
      "\u001b[31mx\u001b[39m \u001b[34mlubridate\u001b[39m::\u001b[32mquarter()\u001b[39m     masks \u001b[34mdata.table\u001b[39m::quarter()\n",
      "\u001b[31mx\u001b[39m \u001b[34mcar\u001b[39m::\u001b[32mrecode()\u001b[39m            masks \u001b[34mdplyr\u001b[39m::recode()\n",
      "\u001b[31mx\u001b[39m \u001b[34mdplyr\u001b[39m::\u001b[32mrename()\u001b[39m          masks \u001b[34mplyr\u001b[39m::rename()\n",
      "\u001b[31mx\u001b[39m \u001b[34mlubridate\u001b[39m::\u001b[32msecond()\u001b[39m      masks \u001b[34mdata.table\u001b[39m::second()\n",
      "\u001b[31mx\u001b[39m \u001b[34mlubridate\u001b[39m::\u001b[32msetdiff()\u001b[39m     masks \u001b[34mbase\u001b[39m::setdiff()\n",
      "\u001b[31mx\u001b[39m \u001b[34mpurrr\u001b[39m::\u001b[32msome()\u001b[39m            masks \u001b[34mcar\u001b[39m::some()\n",
      "\u001b[31mx\u001b[39m \u001b[34mdplyr\u001b[39m::\u001b[32msummarise()\u001b[39m       masks \u001b[34mplyr\u001b[39m::summarise()\n",
      "\u001b[31mx\u001b[39m \u001b[34mdplyr\u001b[39m::\u001b[32msummarize()\u001b[39m       masks \u001b[34mplyr\u001b[39m::summarize()\n",
      "\u001b[31mx\u001b[39m \u001b[34mpurrr\u001b[39m::\u001b[32mtranspose()\u001b[39m       masks \u001b[34mdata.table\u001b[39m::transpose()\n",
      "\u001b[31mx\u001b[39m \u001b[34mlubridate\u001b[39m::\u001b[32munion()\u001b[39m       masks \u001b[34mbase\u001b[39m::union()\n",
      "\u001b[31mx\u001b[39m \u001b[34mlubridate\u001b[39m::\u001b[32mwday()\u001b[39m        masks \u001b[34mdata.table\u001b[39m::wday()\n",
      "\u001b[31mx\u001b[39m \u001b[34mlubridate\u001b[39m::\u001b[32mweek()\u001b[39m        masks \u001b[34mdata.table\u001b[39m::week()\n",
      "\u001b[31mx\u001b[39m \u001b[34mlubridate\u001b[39m::\u001b[32myday()\u001b[39m        masks \u001b[34mdata.table\u001b[39m::yday()\n",
      "\u001b[31mx\u001b[39m \u001b[34mlubridate\u001b[39m::\u001b[32myear()\u001b[39m        masks \u001b[34mdata.table\u001b[39m::year()\n",
      "\n",
      "Attaching package: 'magrittr'\n",
      "\n",
      "The following object is masked from 'package:purrr':\n",
      "\n",
      "    set_names\n",
      "\n",
      "The following object is masked from 'package:tidyr':\n",
      "\n",
      "    extract\n",
      "\n"
     ]
    }
   ],
   "source": [
    "#loading the required packages\n",
    "library(\"plyr\"); library(\"dplyr\")\n",
    "library(\"ggthemes\")\n",
    "library(\"data.table\")\n",
    "library(\"jsonlite\")\n",
    "library(\"AER\")\n",
    "library(\"kableExtra\")\n",
    "library(\"scales\")\n",
    "library(\"lubridate\")\n",
    "library(\"stringi\")\n",
    "library(\"tidyverse\")\n",
    "library(\"ggplot2\")\n",
    "library(\"magrittr\")\n",
    "library(\"base\")"
   ]
  },
  {
   "cell_type": "code",
   "execution_count": 4,
   "metadata": {},
   "outputs": [],
   "source": [
    "#setting working directory\n",
    "setwd(\"D:\\\\NJUKI\\\\Metals Analysis\\\\Clean Data\")"
   ]
  },
  {
   "cell_type": "code",
   "execution_count": 5,
   "metadata": {},
   "outputs": [],
   "source": [
    "#theme setting\n",
    "theme_set(theme_tufte())\n",
    "\n",
    "gin <-scale_fill_manual(values = c(\"#7CB5EC\",\"#313131\",\"F7A35C\",\n",
    "                                   \"#90EE7E\",\"#7798BF\",\"AAEEEE\",\n",
    "                                   \"#FF0066\",\"#EEAAEE\",\"#55BF38\",\n",
    "                                   \"#DF53553\"))\n",
    "theme_hc <- function(){\n",
    "  theme(\n",
    "    text = element_text(family = \"Source Sans Pro\", size = 12),\n",
    "    plot.title = element_text(family = \"Source Sans Pro Semibold\",size = rel(1.4),hjust = 0.5),\n",
    "    axis.line.x = element_line(colour = \"black\", size = 0.5),\n",
    "    axis.text.x = element_text(family = \"Source Sans Pro\", size = rel(1.0)),\n",
    "    axis.text.y = element_text(family = \"Source Sans Pro\",size = rel(1.2)),\n",
    "    axis.title = element_text(family = \"Source Sans Pro\",size = rel(1.0)),\n",
    "    title = element_text(hjust = 0),\n",
    "    axis.title.x = element_text(hjust = 0.5),\n",
    "    axis.title.y = element_text(hjust = 0.5),\n",
    "    panel.grid.major.y = element_line(colour = \"gray\",size = 0.3),\n",
    "    panel.grid.minor.y = element_blank(),\n",
    "    panel.grid.major.x = element_blank(),\n",
    "    panel.grid.minor.x = element_blank(),\n",
    "    panel.background = element_blank(),\n",
    "    panel.border = element_blank(),\n",
    "    legend.position = \"bottom\",\n",
    "    legend.title = element_blank()\n",
    "    \n",
    "  )\n",
    "}\n",
    "\n"
   ]
  },
  {
   "cell_type": "code",
   "execution_count": 6,
   "metadata": {},
   "outputs": [
    {
     "data": {
      "text/html": [
       "<table>\n",
       "<thead><tr><th scope=col>location</th><th scope=col>arsenic</th><th scope=col>chromium</th><th scope=col>copper</th><th scope=col>lead</th></tr></thead>\n",
       "<tbody>\n",
       "\t<tr><td>Nairobi River </td><td>0.001         </td><td>0.91          </td><td>0.01          </td><td>1.60          </td></tr>\n",
       "\t<tr><td>Nairobi River </td><td>0.100         </td><td>0.86          </td><td>0.29          </td><td>1.18          </td></tr>\n",
       "\t<tr><td>Nairobi River </td><td>0.009         </td><td>1.61          </td><td>0.47          </td><td>3.10          </td></tr>\n",
       "\t<tr><td>Ruai Sewage TP</td><td>0.020         </td><td>0.57          </td><td>0.63          </td><td>4.26          </td></tr>\n",
       "\t<tr><td>Ruai Sewage TP</td><td>0.192         </td><td>0.68          </td><td>0.14          </td><td>2.15          </td></tr>\n",
       "\t<tr><td>Ruai Sewage TP</td><td>0.125         </td><td>0.38          </td><td>0.26          </td><td>1.80          </td></tr>\n",
       "</tbody>\n",
       "</table>\n"
      ],
      "text/latex": [
       "\\begin{tabular}{r|lllll}\n",
       " location & arsenic & chromium & copper & lead\\\\\n",
       "\\hline\n",
       "\t Nairobi River  & 0.001          & 0.91           & 0.01           & 1.60          \\\\\n",
       "\t Nairobi River  & 0.100          & 0.86           & 0.29           & 1.18          \\\\\n",
       "\t Nairobi River  & 0.009          & 1.61           & 0.47           & 3.10          \\\\\n",
       "\t Ruai Sewage TP & 0.020          & 0.57           & 0.63           & 4.26          \\\\\n",
       "\t Ruai Sewage TP & 0.192          & 0.68           & 0.14           & 2.15          \\\\\n",
       "\t Ruai Sewage TP & 0.125          & 0.38           & 0.26           & 1.80          \\\\\n",
       "\\end{tabular}\n"
      ],
      "text/markdown": [
       "\n",
       "| location | arsenic | chromium | copper | lead |\n",
       "|---|---|---|---|---|\n",
       "| Nairobi River  | 0.001          | 0.91           | 0.01           | 1.60           |\n",
       "| Nairobi River  | 0.100          | 0.86           | 0.29           | 1.18           |\n",
       "| Nairobi River  | 0.009          | 1.61           | 0.47           | 3.10           |\n",
       "| Ruai Sewage TP | 0.020          | 0.57           | 0.63           | 4.26           |\n",
       "| Ruai Sewage TP | 0.192          | 0.68           | 0.14           | 2.15           |\n",
       "| Ruai Sewage TP | 0.125          | 0.38           | 0.26           | 1.80           |\n",
       "\n"
      ],
      "text/plain": [
       "  location       arsenic chromium copper lead\n",
       "1 Nairobi River  0.001   0.91     0.01   1.60\n",
       "2 Nairobi River  0.100   0.86     0.29   1.18\n",
       "3 Nairobi River  0.009   1.61     0.47   3.10\n",
       "4 Ruai Sewage TP 0.020   0.57     0.63   4.26\n",
       "5 Ruai Sewage TP 0.192   0.68     0.14   2.15\n",
       "6 Ruai Sewage TP 0.125   0.38     0.26   1.80"
      ]
     },
     "metadata": {},
     "output_type": "display_data"
    }
   ],
   "source": [
    "#importing data set\n",
    "cropdata<- read.csv(\"D:\\\\NJUKI\\\\Metals Analysis\\\\Clean Data\\\\crop_data.csv\", sep = \",\", header = TRUE)\n",
    "cropdata\n",
    "\n",
    "attach(cropdata)\n"
   ]
  },
  {
   "cell_type": "code",
   "execution_count": 7,
   "metadata": {},
   "outputs": [
    {
     "name": "stdout",
     "output_type": "stream",
     "text": [
      "'data.frame':\t6 obs. of  5 variables:\n",
      " $ location: Factor w/ 2 levels \"Nairobi River\",..: 1 1 1 2 2 2\n",
      " $ arsenic : num  0.001 0.1 0.009 0.02 0.192 0.125\n",
      " $ chromium: num  0.91 0.86 1.61 0.57 0.68 0.38\n",
      " $ copper  : num  0.01 0.29 0.47 0.63 0.14 0.26\n",
      " $ lead    : num  1.6 1.18 3.1 4.26 2.15 1.8\n",
      "Observations: 6\n",
      "Variables: 5\n",
      "$ location \u001b[3m\u001b[90m<fct>\u001b[39m\u001b[23m Nairobi River, Nairobi River, Nairobi River, Ruai Sewage T...\n",
      "$ arsenic  \u001b[3m\u001b[90m<dbl>\u001b[39m\u001b[23m 0.001, 0.100, 0.009, 0.020, 0.192, 0.125\n",
      "$ chromium \u001b[3m\u001b[90m<dbl>\u001b[39m\u001b[23m 0.91, 0.86, 1.61, 0.57, 0.68, 0.38\n",
      "$ copper   \u001b[3m\u001b[90m<dbl>\u001b[39m\u001b[23m 0.01, 0.29, 0.47, 0.63, 0.14, 0.26\n",
      "$ lead     \u001b[3m\u001b[90m<dbl>\u001b[39m\u001b[23m 1.60, 1.18, 3.10, 4.26, 2.15, 1.80\n"
     ]
    }
   ],
   "source": [
    "#structure of data\n",
    "str(cropdata)\n",
    "glimpse(cropdata)"
   ]
  },
  {
   "cell_type": "code",
   "execution_count": 8,
   "metadata": {},
   "outputs": [
    {
     "data": {
      "text/html": [
       "<ol class=list-inline>\n",
       "\t<li>'location'</li>\n",
       "\t<li>'arsenic'</li>\n",
       "\t<li>'chromium'</li>\n",
       "\t<li>'copper'</li>\n",
       "\t<li>'lead'</li>\n",
       "</ol>\n"
      ],
      "text/latex": [
       "\\begin{enumerate*}\n",
       "\\item 'location'\n",
       "\\item 'arsenic'\n",
       "\\item 'chromium'\n",
       "\\item 'copper'\n",
       "\\item 'lead'\n",
       "\\end{enumerate*}\n"
      ],
      "text/markdown": [
       "1. 'location'\n",
       "2. 'arsenic'\n",
       "3. 'chromium'\n",
       "4. 'copper'\n",
       "5. 'lead'\n",
       "\n",
       "\n"
      ],
      "text/plain": [
       "[1] \"location\" \"arsenic\"  \"chromium\" \"copper\"   \"lead\"    "
      ]
     },
     "metadata": {},
     "output_type": "display_data"
    }
   ],
   "source": [
    "#variables names\n",
    "colnames(cropdata)"
   ]
  },
  {
   "cell_type": "code",
   "execution_count": 9,
   "metadata": {},
   "outputs": [],
   "source": [
    "#reshaping data\n",
    "\n",
    "reshaped_df <-cropdata %>%\n",
    " tidyr::gather(Metal,Values,arsenic:lead) \n",
    "  for (i in 3){\n",
    "    reshaped_df[[i]] <- as.factor(reshaped_df[[i]])\n",
    "  }\n",
    "for (i in 2){\n",
    "  reshaped_df[[i]] <- as.factor(reshaped_df[[i]])\n",
    "}\n"
   ]
  },
  {
   "cell_type": "code",
   "execution_count": 10,
   "metadata": {},
   "outputs": [
    {
     "name": "stderr",
     "output_type": "stream",
     "text": [
      "Warning message in grid.Call(C_textBounds, as.graphicsAnnot(x$label), x$x, x$y, :\n",
      "\"font family not found in Windows font database\"Warning message in grid.Call(C_textBounds, as.graphicsAnnot(x$label), x$x, x$y, :\n",
      "\"font family not found in Windows font database\"Warning message in grid.Call(C_textBounds, as.graphicsAnnot(x$label), x$x, x$y, :\n",
      "\"font family not found in Windows font database\"Warning message in grid.Call(C_textBounds, as.graphicsAnnot(x$label), x$x, x$y, :\n",
      "\"font family not found in Windows font database\"Warning message in grid.Call(C_textBounds, as.graphicsAnnot(x$label), x$x, x$y, :\n",
      "\"font family not found in Windows font database\"Warning message in grid.Call(C_textBounds, as.graphicsAnnot(x$label), x$x, x$y, :\n",
      "\"font family not found in Windows font database\"Warning message in grid.Call(C_textBounds, as.graphicsAnnot(x$label), x$x, x$y, :\n",
      "\"font family not found in Windows font database\"Warning message in grid.Call(C_textBounds, as.graphicsAnnot(x$label), x$x, x$y, :\n",
      "\"font family not found in Windows font database\"Warning message in grid.Call(C_textBounds, as.graphicsAnnot(x$label), x$x, x$y, :\n",
      "\"font family not found in Windows font database\"Warning message in grid.Call(C_textBounds, as.graphicsAnnot(x$label), x$x, x$y, :\n",
      "\"font family not found in Windows font database\"Warning message in grid.Call.graphics(C_text, as.graphicsAnnot(x$label), x$x, x$y, :\n",
      "\"font family not found in Windows font database\"Warning message in grid.Call(C_textBounds, as.graphicsAnnot(x$label), x$x, x$y, :\n",
      "\"font family not found in Windows font database\"Warning message in grid.Call(C_textBounds, as.graphicsAnnot(x$label), x$x, x$y, :\n",
      "\"font family not found in Windows font database\""
     ]
    },
    {
     "data": {
      "image/png": "[encoded data removed]",
      "text/plain": [
       "plot without title"
      ]
     },
     "metadata": {},
     "output_type": "display_data"
    }
   ],
   "source": [
    "#boxplot\n",
    "Arsenic <- cropdata %>%\n",
    "  group_by(location)\n",
    "\n",
    "ggplot(Arsenic, aes(location,arsenic)) +\n",
    "  geom_boxplot(colour = c(\"dark red\",\"dark blue\"),size = 0.5) +\n",
    "  labs(x=\"Water Locations\",y = \"Concentration of Arsenic\",title = \"Distribution of Arsenic Concentration(Crop)\",subtitle = \"\")+\n",
    "  theme(legend.position = \"none\",plot.subtitle = element_text(size = rel(1.0),hjust = 0.5,face = \"italic\",color = \"black\")) +\n",
    "  gin + theme_hc()\n",
    "  "
   ]
  },
  {
   "cell_type": "code",
   "execution_count": 11,
   "metadata": {},
   "outputs": [
    {
     "name": "stderr",
     "output_type": "stream",
     "text": [
      "Warning message in grid.Call(C_textBounds, as.graphicsAnnot(x$label), x$x, x$y, :\n",
      "\"font family not found in Windows font database\"Warning message in grid.Call(C_textBounds, as.graphicsAnnot(x$label), x$x, x$y, :\n",
      "\"font family not found in Windows font database\"Warning message in grid.Call(C_textBounds, as.graphicsAnnot(x$label), x$x, x$y, :\n",
      "\"font family not found in Windows font database\"Warning message in grid.Call(C_textBounds, as.graphicsAnnot(x$label), x$x, x$y, :\n",
      "\"font family not found in Windows font database\"Warning message in grid.Call(C_textBounds, as.graphicsAnnot(x$label), x$x, x$y, :\n",
      "\"font family not found in Windows font database\"Warning message in grid.Call(C_textBounds, as.graphicsAnnot(x$label), x$x, x$y, :\n",
      "\"font family not found in Windows font database\"Warning message in grid.Call(C_textBounds, as.graphicsAnnot(x$label), x$x, x$y, :\n",
      "\"font family not found in Windows font database\"Warning message in grid.Call(C_textBounds, as.graphicsAnnot(x$label), x$x, x$y, :\n",
      "\"font family not found in Windows font database\"Warning message in grid.Call(C_textBounds, as.graphicsAnnot(x$label), x$x, x$y, :\n",
      "\"font family not found in Windows font database\"Warning message in grid.Call(C_textBounds, as.graphicsAnnot(x$label), x$x, x$y, :\n",
      "\"font family not found in Windows font database\"Warning message in grid.Call.graphics(C_text, as.graphicsAnnot(x$label), x$x, x$y, :\n",
      "\"font family not found in Windows font database\"Warning message in grid.Call(C_textBounds, as.graphicsAnnot(x$label), x$x, x$y, :\n",
      "\"font family not found in Windows font database\"Warning message in grid.Call(C_textBounds, as.graphicsAnnot(x$label), x$x, x$y, :\n",
      "\"font family not found in Windows font database\""
     ]
    },
    {
     "data": {
      "image/png": "[encoded data removed]",
      "text/plain": [
       "plot without title"
      ]
     },
     "metadata": {},
     "output_type": "display_data"
    }
   ],
   "source": [
    "#2.Chromium\n",
    "Chromium <-  cropdata %>%\n",
    "  group_by(location)\n",
    "\n",
    "ggplot(Chromium, aes(location,chromium)) +\n",
    "  geom_boxplot(colour = c(\"dark red\",\"dark blue\"),size = 0.5) +\n",
    "  labs(x=\"Water Locations\",y = \"Concentration of Chromium Metal\",title = \"Distribution of Chromium Concentration in Crop tissues\",subtitle = \"\")+\n",
    "  theme(legend.position = \"none\",plot.subtitle = element_text(size = rel(1.0),hjust = 0.5,face = \"italic\",color = \"black\")) +\n",
    "  gin + theme_hc()"
   ]
  },
  {
   "cell_type": "code",
   "execution_count": 12,
   "metadata": {},
   "outputs": [
    {
     "name": "stderr",
     "output_type": "stream",
     "text": [
      "Warning message in grid.Call(C_textBounds, as.graphicsAnnot(x$label), x$x, x$y, :\n",
      "\"font family not found in Windows font database\"Warning message in grid.Call(C_textBounds, as.graphicsAnnot(x$label), x$x, x$y, :\n",
      "\"font family not found in Windows font database\"Warning message in grid.Call(C_textBounds, as.graphicsAnnot(x$label), x$x, x$y, :\n",
      "\"font family not found in Windows font database\"Warning message in grid.Call(C_textBounds, as.graphicsAnnot(x$label), x$x, x$y, :\n",
      "\"font family not found in Windows font database\"Warning message in grid.Call(C_textBounds, as.graphicsAnnot(x$label), x$x, x$y, :\n",
      "\"font family not found in Windows font database\"Warning message in grid.Call(C_textBounds, as.graphicsAnnot(x$label), x$x, x$y, :\n",
      "\"font family not found in Windows font database\"Warning message in grid.Call(C_textBounds, as.graphicsAnnot(x$label), x$x, x$y, :\n",
      "\"font family not found in Windows font database\"Warning message in grid.Call(C_textBounds, as.graphicsAnnot(x$label), x$x, x$y, :\n",
      "\"font family not found in Windows font database\"Warning message in grid.Call(C_textBounds, as.graphicsAnnot(x$label), x$x, x$y, :\n",
      "\"font family not found in Windows font database\"Warning message in grid.Call(C_textBounds, as.graphicsAnnot(x$label), x$x, x$y, :\n",
      "\"font family not found in Windows font database\"Warning message in grid.Call.graphics(C_text, as.graphicsAnnot(x$label), x$x, x$y, :\n",
      "\"font family not found in Windows font database\"Warning message in grid.Call(C_textBounds, as.graphicsAnnot(x$label), x$x, x$y, :\n",
      "\"font family not found in Windows font database\"Warning message in grid.Call(C_textBounds, as.graphicsAnnot(x$label), x$x, x$y, :\n",
      "\"font family not found in Windows font database\""
     ]
    },
    {
     "data": {
      "image/png": "[encoded data removed]",
      "text/plain": [
       "plot without title"
      ]
     },
     "metadata": {},
     "output_type": "display_data"
    }
   ],
   "source": [
    "#3.Copper\n",
    "Copper <-  cropdata %>%\n",
    "  group_by(location)\n",
    "\n",
    "ggplot(Copper, aes(location,copper)) +\n",
    "  geom_boxplot(colour = c(\"dark red\",\"dark blue\"),size = 0.5) +\n",
    "  labs(x=\"Water Locations\",y = \"Concentration of Copper Metal\",title = \"Distribution of Copper Concentration in Crop tissues\",subtitle = \"\")+\n",
    "  theme(legend.position = \"none\",plot.subtitle = element_text(size = rel(1.0),hjust = 0.5,face = \"italic\",color = \"black\")) +\n",
    "  gin + theme_hc() "
   ]
  },
  {
   "cell_type": "code",
   "execution_count": 13,
   "metadata": {},
   "outputs": [
    {
     "name": "stderr",
     "output_type": "stream",
     "text": [
      "Warning message in grid.Call(C_textBounds, as.graphicsAnnot(x$label), x$x, x$y, :\n",
      "\"font family not found in Windows font database\"Warning message in grid.Call(C_textBounds, as.graphicsAnnot(x$label), x$x, x$y, :\n",
      "\"font family not found in Windows font database\"Warning message in grid.Call(C_textBounds, as.graphicsAnnot(x$label), x$x, x$y, :\n",
      "\"font family not found in Windows font database\"Warning message in grid.Call(C_textBounds, as.graphicsAnnot(x$label), x$x, x$y, :\n",
      "\"font family not found in Windows font database\"Warning message in grid.Call(C_textBounds, as.graphicsAnnot(x$label), x$x, x$y, :\n",
      "\"font family not found in Windows font database\"Warning message in grid.Call(C_textBounds, as.graphicsAnnot(x$label), x$x, x$y, :\n",
      "\"font family not found in Windows font database\"Warning message in grid.Call(C_textBounds, as.graphicsAnnot(x$label), x$x, x$y, :\n",
      "\"font family not found in Windows font database\"Warning message in grid.Call(C_textBounds, as.graphicsAnnot(x$label), x$x, x$y, :\n",
      "\"font family not found in Windows font database\"Warning message in grid.Call(C_textBounds, as.graphicsAnnot(x$label), x$x, x$y, :\n",
      "\"font family not found in Windows font database\"Warning message in grid.Call(C_textBounds, as.graphicsAnnot(x$label), x$x, x$y, :\n",
      "\"font family not found in Windows font database\"Warning message in grid.Call.graphics(C_text, as.graphicsAnnot(x$label), x$x, x$y, :\n",
      "\"font family not found in Windows font database\"Warning message in grid.Call(C_textBounds, as.graphicsAnnot(x$label), x$x, x$y, :\n",
      "\"font family not found in Windows font database\"Warning message in grid.Call(C_textBounds, as.graphicsAnnot(x$label), x$x, x$y, :\n",
      "\"font family not found in Windows font database\""
     ]
    },
    {
     "data": {
      "image/png": "[encoded data removed]",
      "text/plain": [
       "plot without title"
      ]
     },
     "metadata": {},
     "output_type": "display_data"
    }
   ],
   "source": [
    "#4.Lead\n",
    "Lead <-  cropdata %>%\n",
    "  group_by(location)\n",
    "\n",
    "ggplot(Lead, aes(location,copper)) +\n",
    "  geom_boxplot(colour = c(\"dark red\",\"dark blue\"),size = 0.5) +\n",
    "  labs(x=\"Water Locations\",y = \"Concentration of Lead Metal\",title = \"Distribution of Lead Concentration in Crop tissues\",subtitle = \"\")+\n",
    "  theme(legend.position = \"none\",plot.subtitle = element_text(size = rel(1.0),hjust = 0.5,face = \"italic\",color = \"black\")) +\n",
    "  gin + theme_hc()"
   ]
  },
  {
   "cell_type": "code",
   "execution_count": null,
   "metadata": {},
   "outputs": [],
   "source": []
  }
 ],
 "metadata": {
  "kernelspec": {
   "display_name": "R",
   "language": "R",
   "name": "ir"
  },
  "language_info": {
   "codemirror_mode": "r",
   "file_extension": ".r",
   "mimetype": "text/x-r-source",
   "name": "R",
   "pygments_lexer": "r",
   "version": "3.5.3"
  }
 },
 "nbformat": 4,
 "nbformat_minor": 2
}
