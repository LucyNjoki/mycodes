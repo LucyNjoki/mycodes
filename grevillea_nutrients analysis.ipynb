{
 "cells": [
  {
   "cell_type": "markdown",
   "metadata": {},
   "source": [
    "Purpose:\n",
    "Testing significant difference in nutrients content in grevillea area(Using one way ANOVA because i am comparing one IV with the DV )\n",
    "Date: April 18,2019\n",
    "Edited: April 23,2019\n",
    "By: Lucy Njoki"
   ]
  },
  {
   "cell_type": "code",
   "execution_count": 1,
   "metadata": {},
   "outputs": [],
   "source": [
    "rm(list=ls())"
   ]
  },
  {
   "cell_type": "code",
   "execution_count": null,
   "metadata": {},
   "outputs": [],
   "source": [
    "#loading the required packages\n",
    "library(\"mvtnorm\")\n",
    "library(\"survival\")\n",
    "library(\"MASS\")\n",
    "library(\"multcomp\")\n",
    "library(\"TH.data\")\n",
    "library(\"abind\")\n",
    "library(\"ggpubr\")\n",
    "library(\"ggplot2\")\n",
    "library(\"magrittr\")\n"
   ]
  },
  {
   "cell_type": "code",
   "execution_count": 2,
   "metadata": {},
   "outputs": [],
   "source": [
    "#setting up the working directory\n",
    "setwd(\"D:\\\\NJUKI\\\\Community Ecology Analysis\\\\Clean Data\")"
   ]
  },
  {
   "cell_type": "code",
   "execution_count": 3,
   "metadata": {},
   "outputs": [
    {
     "data": {
      "text/html": [
       "<table>\n",
       "<thead><tr><th scope=col>soil_category</th><th scope=col>N</th><th scope=col>Na</th><th scope=col>K</th><th scope=col>P</th><th scope=col>organic_carbon</th><th scope=col>moisture</th></tr></thead>\n",
       "<tbody>\n",
       "\t<tr><td>A    </td><td>0.280</td><td>0.609</td><td>2.308</td><td>24.3 </td><td>2.989</td><td>13.77</td></tr>\n",
       "\t<tr><td>A    </td><td>0.406</td><td>0.900</td><td>2.385</td><td>33.3 </td><td>2.917</td><td>15.32</td></tr>\n",
       "\t<tr><td>A    </td><td>0.406</td><td>0.900</td><td>1.949</td><td>28.4 </td><td>3.026</td><td>13.48</td></tr>\n",
       "\t<tr><td>B    </td><td>0.546</td><td>0.696</td><td>2.462</td><td>29.3 </td><td>4.058</td><td>13.84</td></tr>\n",
       "\t<tr><td>B    </td><td>0.350</td><td>0.609</td><td>2.308</td><td>27.5 </td><td>3.986</td><td>18.18</td></tr>\n",
       "\t<tr><td>B    </td><td>0.448</td><td>0.783</td><td>1.846</td><td>29.3 </td><td>4.312</td><td>15.03</td></tr>\n",
       "\t<tr><td>C    </td><td>0.420</td><td>0.522</td><td>2.154</td><td>27.0 </td><td>3.062</td><td>13.23</td></tr>\n",
       "\t<tr><td>C    </td><td>0.406</td><td>0.696</td><td>2.154</td><td>24.9 </td><td>3.116</td><td>15.24</td></tr>\n",
       "\t<tr><td>C    </td><td>0.448</td><td>0.957</td><td>1.744</td><td>45.8 </td><td>3.949</td><td>13.99</td></tr>\n",
       "\t<tr><td>D    </td><td>0.476</td><td>0.696</td><td>2.154</td><td>25.9 </td><td>3.442</td><td>13.41</td></tr>\n",
       "\t<tr><td>D    </td><td>0.462</td><td>0.900</td><td>2.333</td><td>23.2 </td><td>3.026</td><td>20.15</td></tr>\n",
       "\t<tr><td>D    </td><td>0.574</td><td>0.957</td><td>1.897</td><td>41.1 </td><td>3.569</td><td>15.02</td></tr>\n",
       "</tbody>\n",
       "</table>\n"
      ],
      "text/latex": [
       "\\begin{tabular}{r|lllllll}\n",
       " soil\\_category & N & Na & K & P & organic\\_carbon & moisture\\\\\n",
       "\\hline\n",
       "\t A     & 0.280 & 0.609 & 2.308 & 24.3  & 2.989 & 13.77\\\\\n",
       "\t A     & 0.406 & 0.900 & 2.385 & 33.3  & 2.917 & 15.32\\\\\n",
       "\t A     & 0.406 & 0.900 & 1.949 & 28.4  & 3.026 & 13.48\\\\\n",
       "\t B     & 0.546 & 0.696 & 2.462 & 29.3  & 4.058 & 13.84\\\\\n",
       "\t B     & 0.350 & 0.609 & 2.308 & 27.5  & 3.986 & 18.18\\\\\n",
       "\t B     & 0.448 & 0.783 & 1.846 & 29.3  & 4.312 & 15.03\\\\\n",
       "\t C     & 0.420 & 0.522 & 2.154 & 27.0  & 3.062 & 13.23\\\\\n",
       "\t C     & 0.406 & 0.696 & 2.154 & 24.9  & 3.116 & 15.24\\\\\n",
       "\t C     & 0.448 & 0.957 & 1.744 & 45.8  & 3.949 & 13.99\\\\\n",
       "\t D     & 0.476 & 0.696 & 2.154 & 25.9  & 3.442 & 13.41\\\\\n",
       "\t D     & 0.462 & 0.900 & 2.333 & 23.2  & 3.026 & 20.15\\\\\n",
       "\t D     & 0.574 & 0.957 & 1.897 & 41.1  & 3.569 & 15.02\\\\\n",
       "\\end{tabular}\n"
      ],
      "text/markdown": [
       "\n",
       "| soil_category | N | Na | K | P | organic_carbon | moisture |\n",
       "|---|---|---|---|---|---|---|\n",
       "| A     | 0.280 | 0.609 | 2.308 | 24.3  | 2.989 | 13.77 |\n",
       "| A     | 0.406 | 0.900 | 2.385 | 33.3  | 2.917 | 15.32 |\n",
       "| A     | 0.406 | 0.900 | 1.949 | 28.4  | 3.026 | 13.48 |\n",
       "| B     | 0.546 | 0.696 | 2.462 | 29.3  | 4.058 | 13.84 |\n",
       "| B     | 0.350 | 0.609 | 2.308 | 27.5  | 3.986 | 18.18 |\n",
       "| B     | 0.448 | 0.783 | 1.846 | 29.3  | 4.312 | 15.03 |\n",
       "| C     | 0.420 | 0.522 | 2.154 | 27.0  | 3.062 | 13.23 |\n",
       "| C     | 0.406 | 0.696 | 2.154 | 24.9  | 3.116 | 15.24 |\n",
       "| C     | 0.448 | 0.957 | 1.744 | 45.8  | 3.949 | 13.99 |\n",
       "| D     | 0.476 | 0.696 | 2.154 | 25.9  | 3.442 | 13.41 |\n",
       "| D     | 0.462 | 0.900 | 2.333 | 23.2  | 3.026 | 20.15 |\n",
       "| D     | 0.574 | 0.957 | 1.897 | 41.1  | 3.569 | 15.02 |\n",
       "\n"
      ],
      "text/plain": [
       "   soil_category N     Na    K     P    organic_carbon moisture\n",
       "1  A             0.280 0.609 2.308 24.3 2.989          13.77   \n",
       "2  A             0.406 0.900 2.385 33.3 2.917          15.32   \n",
       "3  A             0.406 0.900 1.949 28.4 3.026          13.48   \n",
       "4  B             0.546 0.696 2.462 29.3 4.058          13.84   \n",
       "5  B             0.350 0.609 2.308 27.5 3.986          18.18   \n",
       "6  B             0.448 0.783 1.846 29.3 4.312          15.03   \n",
       "7  C             0.420 0.522 2.154 27.0 3.062          13.23   \n",
       "8  C             0.406 0.696 2.154 24.9 3.116          15.24   \n",
       "9  C             0.448 0.957 1.744 45.8 3.949          13.99   \n",
       "10 D             0.476 0.696 2.154 25.9 3.442          13.41   \n",
       "11 D             0.462 0.900 2.333 23.2 3.026          20.15   \n",
       "12 D             0.574 0.957 1.897 41.1 3.569          15.02   "
      ]
     },
     "metadata": {},
     "output_type": "display_data"
    }
   ],
   "source": [
    "#importing datasets\n",
    "grevillia_data<-read.table(\"D:\\\\NJUKI\\\\Community Ecology Analysis\\\\Clean Data\\\\grevillia_plantation.txt\",sep = \"\",header = TRUE)\n",
    "grevillia_data"
   ]
  },
  {
   "cell_type": "code",
   "execution_count": 4,
   "metadata": {},
   "outputs": [
    {
     "name": "stdout",
     "output_type": "stream",
     "text": [
      "'data.frame':\t12 obs. of  7 variables:\n",
      " $ soil_category : Factor w/ 4 levels \"A\",\"B\",\"C\",\"D\": 1 1 1 2 2 2 3 3 3 4 ...\n",
      " $ N             : num  0.28 0.406 0.406 0.546 0.35 0.448 0.42 0.406 0.448 0.476 ...\n",
      " $ Na            : num  0.609 0.9 0.9 0.696 0.609 0.783 0.522 0.696 0.957 0.696 ...\n",
      " $ K             : num  2.31 2.38 1.95 2.46 2.31 ...\n",
      " $ P             : num  24.3 33.3 28.4 29.3 27.5 29.3 27 24.9 45.8 25.9 ...\n",
      " $ organic_carbon: num  2.99 2.92 3.03 4.06 3.99 ...\n",
      " $ moisture      : num  13.8 15.3 13.5 13.8 18.2 ...\n"
     ]
    }
   ],
   "source": [
    "str(grevillia_data)"
   ]
  },
  {
   "cell_type": "code",
   "execution_count": 5,
   "metadata": {},
   "outputs": [],
   "source": [
    "attach(grevillia_data)"
   ]
  },
  {
   "cell_type": "code",
   "execution_count": 6,
   "metadata": {},
   "outputs": [
    {
     "data": {
      "text/html": [
       "<ol class=list-inline>\n",
       "\t<li>'soil_category'</li>\n",
       "\t<li>'N'</li>\n",
       "\t<li>'Na'</li>\n",
       "\t<li>'K'</li>\n",
       "\t<li>'P'</li>\n",
       "\t<li>'organic_carbon'</li>\n",
       "\t<li>'moisture'</li>\n",
       "</ol>\n"
      ],
      "text/latex": [
       "\\begin{enumerate*}\n",
       "\\item 'soil\\_category'\n",
       "\\item 'N'\n",
       "\\item 'Na'\n",
       "\\item 'K'\n",
       "\\item 'P'\n",
       "\\item 'organic\\_carbon'\n",
       "\\item 'moisture'\n",
       "\\end{enumerate*}\n"
      ],
      "text/markdown": [
       "1. 'soil_category'\n",
       "2. 'N'\n",
       "3. 'Na'\n",
       "4. 'K'\n",
       "5. 'P'\n",
       "6. 'organic_carbon'\n",
       "7. 'moisture'\n",
       "\n",
       "\n"
      ],
      "text/plain": [
       "[1] \"soil_category\"  \"N\"              \"Na\"             \"K\"             \n",
       "[5] \"P\"              \"organic_carbon\" \"moisture\"      "
      ]
     },
     "metadata": {},
     "output_type": "display_data"
    }
   ],
   "source": [
    "#variables names\n",
    "colnames(grevillia_data)"
   ]
  },
  {
   "cell_type": "code",
   "execution_count": 7,
   "metadata": {},
   "outputs": [
    {
     "data": {
      "text/plain": [
       " soil_category       N                Na               K        \n",
       " A:3           Min.   :0.2800   Min.   :0.5220   Min.   :1.744  \n",
       " B:3           1st Qu.:0.4060   1st Qu.:0.6743   1st Qu.:1.936  \n",
       " C:3           Median :0.4340   Median :0.7395   Median :2.154  \n",
       " D:3           Mean   :0.4352   Mean   :0.7688   Mean   :2.141  \n",
       "               3rd Qu.:0.4655   3rd Qu.:0.9000   3rd Qu.:2.314  \n",
       "               Max.   :0.5740   Max.   :0.9570   Max.   :2.462  \n",
       "       P         organic_carbon     moisture    \n",
       " Min.   :23.20   Min.   :2.917   Min.   :13.23  \n",
       " 1st Qu.:25.65   1st Qu.:3.026   1st Qu.:13.70  \n",
       " Median :27.95   Median :3.279   Median :14.51  \n",
       " Mean   :30.00   Mean   :3.454   Mean   :15.05  \n",
       " 3rd Qu.:30.30   3rd Qu.:3.958   3rd Qu.:15.26  \n",
       " Max.   :45.80   Max.   :4.312   Max.   :20.15  "
      ]
     },
     "metadata": {},
     "output_type": "display_data"
    }
   ],
   "source": [
    "#summary\n",
    "summary(grevillia_data)"
   ]
  },
  {
   "cell_type": "code",
   "execution_count": 8,
   "metadata": {},
   "outputs": [
    {
     "data": {
      "text/plain": [
       "\n",
       "\tShapiro-Wilk normality test\n",
       "\n",
       "data:  N\n",
       "W = 0.95962, p-value = 0.7784\n"
      ]
     },
     "metadata": {},
     "output_type": "display_data"
    },
    {
     "data": {
      "text/plain": [
       "\n",
       "\tShapiro-Wilk normality test\n",
       "\n",
       "data:  Na\n",
       "W = 0.90436, p-value = 0.1805\n"
      ]
     },
     "metadata": {},
     "output_type": "display_data"
    },
    {
     "data": {
      "text/plain": [
       "\n",
       "\tShapiro-Wilk normality test\n",
       "\n",
       "data:  K\n",
       "W = 0.93216, p-value = 0.4036\n"
      ]
     },
     "metadata": {},
     "output_type": "display_data"
    },
    {
     "data": {
      "text/plain": [
       "\n",
       "\tShapiro-Wilk normality test\n",
       "\n",
       "data:  P\n",
       "W = 0.81835, p-value = 0.01526\n"
      ]
     },
     "metadata": {},
     "output_type": "display_data"
    },
    {
     "data": {
      "text/plain": [
       "\n",
       "\tShapiro-Wilk normality test\n",
       "\n",
       "data:  organic_carbon\n",
       "W = 0.86129, p-value = 0.05074\n"
      ]
     },
     "metadata": {},
     "output_type": "display_data"
    },
    {
     "data": {
      "text/plain": [
       "\n",
       "\tShapiro-Wilk normality test\n",
       "\n",
       "data:  moisture\n",
       "W = 0.78594, p-value = 0.006512\n"
      ]
     },
     "metadata": {},
     "output_type": "display_data"
    }
   ],
   "source": [
    "#normality test\n",
    "shapiro.test(N)\n",
    "shapiro.test(Na)\n",
    "shapiro.test(K)\n",
    "shapiro.test(P)\n",
    "shapiro.test(organic_carbon)\n",
    "shapiro.test(moisture)\n"
   ]
  },
  {
   "cell_type": "code",
   "execution_count": 9,
   "metadata": {},
   "outputs": [
    {
     "name": "stderr",
     "output_type": "stream",
     "text": [
      "Loading required package: ggplot2\n",
      "Loading required package: magrittr\n"
     ]
    },
    {
     "data": {
      "image/png": "[encoded data removed]",
      "text/plain": [
       "plot without title"
      ]
     },
     "metadata": {},
     "output_type": "display_data"
    }
   ],
   "source": [
    "library(\"ggpubr\")\n",
    "library(\"ggplot2\")\n",
    "library(\"magrittr\")\n",
    "ggqqplot(organic_carbon)\n"
   ]
  },
  {
   "cell_type": "code",
   "execution_count": 10,
   "metadata": {},
   "outputs": [
    {
     "data": {
      "text/html": [
       "<ol class=list-inline>\n",
       "\t<li>3.1904763503465</li>\n",
       "\t<li>3.5055573969864</li>\n",
       "\t<li>3.34638914516716</li>\n",
       "\t<li>3.37758751602302</li>\n",
       "\t<li>3.31418600467253</li>\n",
       "\t<li>3.37758751602302</li>\n",
       "\t<li>3.29583686600433</li>\n",
       "\t<li>3.21486780347066</li>\n",
       "\t<li>3.82428409112014</li>\n",
       "\t<li>3.25424296870549</li>\n",
       "\t<li>3.14415227867226</li>\n",
       "\t<li>3.71600812150219</li>\n",
       "</ol>\n"
      ],
      "text/latex": [
       "\\begin{enumerate*}\n",
       "\\item 3.1904763503465\n",
       "\\item 3.5055573969864\n",
       "\\item 3.34638914516716\n",
       "\\item 3.37758751602302\n",
       "\\item 3.31418600467253\n",
       "\\item 3.37758751602302\n",
       "\\item 3.29583686600433\n",
       "\\item 3.21486780347066\n",
       "\\item 3.82428409112014\n",
       "\\item 3.25424296870549\n",
       "\\item 3.14415227867226\n",
       "\\item 3.71600812150219\n",
       "\\end{enumerate*}\n"
      ],
      "text/markdown": [
       "1. 3.1904763503465\n",
       "2. 3.5055573969864\n",
       "3. 3.34638914516716\n",
       "4. 3.37758751602302\n",
       "5. 3.31418600467253\n",
       "6. 3.37758751602302\n",
       "7. 3.29583686600433\n",
       "8. 3.21486780347066\n",
       "9. 3.82428409112014\n",
       "10. 3.25424296870549\n",
       "11. 3.14415227867226\n",
       "12. 3.71600812150219\n",
       "\n",
       "\n"
      ],
      "text/plain": [
       " [1] 3.190476 3.505557 3.346389 3.377588 3.314186 3.377588 3.295837 3.214868\n",
       " [9] 3.824284 3.254243 3.144152 3.716008"
      ]
     },
     "metadata": {},
     "output_type": "display_data"
    }
   ],
   "source": [
    "#transforming the nonnormal variables\n",
    "#natural transformation\n",
    "P_log<-log(P)\n",
    "P_log\n"
   ]
  },
  {
   "cell_type": "code",
   "execution_count": 11,
   "metadata": {},
   "outputs": [
    {
     "data": {
      "text/html": [
       "<ol class=list-inline>\n",
       "\t<li>0.138138917112662</li>\n",
       "\t<li>0.153805692612548</li>\n",
       "\t<li>0.135211617444867</li>\n",
       "\t<li>0.138845684238893</li>\n",
       "\t<li>0.182816647017974</li>\n",
       "\t<li>0.150871712808511</li>\n",
       "\t<li>0.132689019506674</li>\n",
       "\t<li>0.152996186668118</li>\n",
       "\t<li>0.140360420785364</li>\n",
       "\t<li>0.134505203458234</li>\n",
       "\t<li>0.202889091760776</li>\n",
       "\t<li>0.150770564577305</li>\n",
       "</ol>\n"
      ],
      "text/latex": [
       "\\begin{enumerate*}\n",
       "\\item 0.138138917112662\n",
       "\\item 0.153805692612548\n",
       "\\item 0.135211617444867\n",
       "\\item 0.138845684238893\n",
       "\\item 0.182816647017974\n",
       "\\item 0.150871712808511\n",
       "\\item 0.132689019506674\n",
       "\\item 0.152996186668118\n",
       "\\item 0.140360420785364\n",
       "\\item 0.134505203458234\n",
       "\\item 0.202889091760776\n",
       "\\item 0.150770564577305\n",
       "\\end{enumerate*}\n"
      ],
      "text/markdown": [
       "1. 0.138138917112662\n",
       "2. 0.153805692612548\n",
       "3. 0.135211617444867\n",
       "4. 0.138845684238893\n",
       "5. 0.182816647017974\n",
       "6. 0.150871712808511\n",
       "7. 0.132689019506674\n",
       "8. 0.152996186668118\n",
       "9. 0.140360420785364\n",
       "10. 0.134505203458234\n",
       "11. 0.202889091760776\n",
       "12. 0.150770564577305\n",
       "\n",
       "\n"
      ],
      "text/plain": [
       " [1] 0.1381389 0.1538057 0.1352116 0.1388457 0.1828166 0.1508717 0.1326890\n",
       " [8] 0.1529962 0.1403604 0.1345052 0.2028891 0.1507706"
      ]
     },
     "metadata": {},
     "output_type": "display_data"
    },
    {
     "data": {
      "text/html": [
       "<ol class=list-inline>\n",
       "\t<li>0.087941965967367</li>\n",
       "\t<li>0.0979157450198382</li>\n",
       "\t<li>0.0860783891192036</li>\n",
       "\t<li>0.0883919078943853</li>\n",
       "\t<li>0.116384692209587</li>\n",
       "\t<li>0.0960479154648614</li>\n",
       "\t<li>0.0844724533940164</li>\n",
       "\t<li>0.097400397529765</li>\n",
       "\t<li>0.0893562191297964</li>\n",
       "\t<li>0.0856286720078362</li>\n",
       "\t<li>0.129163207412611</li>\n",
       "\t<li>0.0959835225009357</li>\n",
       "</ol>\n"
      ],
      "text/latex": [
       "\\begin{enumerate*}\n",
       "\\item 0.087941965967367\n",
       "\\item 0.0979157450198382\n",
       "\\item 0.0860783891192036\n",
       "\\item 0.0883919078943853\n",
       "\\item 0.116384692209587\n",
       "\\item 0.0960479154648614\n",
       "\\item 0.0844724533940164\n",
       "\\item 0.097400397529765\n",
       "\\item 0.0893562191297964\n",
       "\\item 0.0856286720078362\n",
       "\\item 0.129163207412611\n",
       "\\item 0.0959835225009357\n",
       "\\end{enumerate*}\n"
      ],
      "text/markdown": [
       "1. 0.087941965967367\n",
       "2. 0.0979157450198382\n",
       "3. 0.0860783891192036\n",
       "4. 0.0883919078943853\n",
       "5. 0.116384692209587\n",
       "6. 0.0960479154648614\n",
       "7. 0.0844724533940164\n",
       "8. 0.097400397529765\n",
       "9. 0.0893562191297964\n",
       "10. 0.0856286720078362\n",
       "11. 0.129163207412611\n",
       "12. 0.0959835225009357\n",
       "\n",
       "\n"
      ],
      "text/plain": [
       " [1] 0.08794197 0.09791575 0.08607839 0.08839191 0.11638469 0.09604792\n",
       " [7] 0.08447245 0.09740040 0.08935622 0.08562867 0.12916321 0.09598352"
      ]
     },
     "metadata": {},
     "output_type": "display_data"
    }
   ],
   "source": [
    "#arcsine transformation\n",
    "moist<- asin(moisture/100)\n",
    "moist\n",
    "\n",
    "moist1<- asin(moisture/100) * 2/pi\n",
    "moist1\n"
   ]
  },
  {
   "cell_type": "code",
   "execution_count": 12,
   "metadata": {},
   "outputs": [
    {
     "data": {
      "text/plain": [
       "\n",
       "\tShapiro-Wilk normality test\n",
       "\n",
       "data:  P_log\n",
       "W = 0.87478, p-value = 0.07518\n"
      ]
     },
     "metadata": {},
     "output_type": "display_data"
    },
    {
     "data": {
      "text/plain": [
       "\n",
       "\tShapiro-Wilk normality test\n",
       "\n",
       "data:  moist\n",
       "W = 0.785, p-value = 0.006358\n"
      ]
     },
     "metadata": {},
     "output_type": "display_data"
    },
    {
     "data": {
      "text/plain": [
       "\n",
       "\tShapiro-Wilk normality test\n",
       "\n",
       "data:  moist1\n",
       "W = 0.785, p-value = 0.006358\n"
      ]
     },
     "metadata": {},
     "output_type": "display_data"
    }
   ],
   "source": [
    "shapiro.test(P_log )\n",
    "shapiro.test(moist)\n",
    "shapiro.test(moist1)\n"
   ]
  },
  {
   "cell_type": "code",
   "execution_count": 13,
   "metadata": {},
   "outputs": [
    {
     "data": {
      "text/plain": [
       "Call:\n",
       "   aov(formula = K ~ soil_category, data = grevillia_data)\n",
       "\n",
       "Terms:\n",
       "                soil_category Residuals\n",
       "Sum of Squares      0.0747903 0.5219693\n",
       "Deg. of Freedom             3         8\n",
       "\n",
       "Residual standard error: 0.2554333\n",
       "Estimated effects may be unbalanced"
      ]
     },
     "metadata": {},
     "output_type": "display_data"
    },
    {
     "data": {
      "text/plain": [
       "              Df Sum Sq Mean Sq F value Pr(>F)\n",
       "soil_category  3 0.0748 0.02493   0.382  0.769\n",
       "Residuals      8 0.5220 0.06525               "
      ]
     },
     "metadata": {},
     "output_type": "display_data"
    }
   ],
   "source": [
    "#Testing significant difference in nutrients content between the two growing areas\n",
    "#Grevillia plantation\n",
    "model0<-aov(K ~ soil_category,data = grevillia_data)\n",
    "model0\n",
    "\n",
    "summary(model0)"
   ]
  },
  {
   "cell_type": "code",
   "execution_count": 14,
   "metadata": {},
   "outputs": [
    {
     "data": {
      "text/plain": [
       "Call:\n",
       "   aov(formula = N ~ soil_category, data = grevillia_data)\n",
       "\n",
       "Terms:\n",
       "                soil_category  Residuals\n",
       "Sum of Squares     0.03023300 0.03815467\n",
       "Deg. of Freedom             3          8\n",
       "\n",
       "Residual standard error: 0.06906036\n",
       "Estimated effects may be unbalanced"
      ]
     },
     "metadata": {},
     "output_type": "display_data"
    },
    {
     "data": {
      "text/plain": [
       "              Df  Sum Sq  Mean Sq F value Pr(>F)\n",
       "soil_category  3 0.03023 0.010078   2.113  0.177\n",
       "Residuals      8 0.03815 0.004769               "
      ]
     },
     "metadata": {},
     "output_type": "display_data"
    }
   ],
   "source": [
    "model1<-aov(N ~ soil_category,data = grevillia_data)\n",
    "model1\n",
    "\n",
    "summary(model1)"
   ]
  },
  {
   "cell_type": "code",
   "execution_count": 15,
   "metadata": {},
   "outputs": [
    {
     "data": {
      "text/plain": [
       "Call:\n",
       "   aov(formula = Na ~ soil_category, data = grevillia_data)\n",
       "\n",
       "Terms:\n",
       "                soil_category  Residuals\n",
       "Sum of Squares     0.04543425 0.20512800\n",
       "Deg. of Freedom             3          8\n",
       "\n",
       "Residual standard error: 0.1601281\n",
       "Estimated effects may be unbalanced"
      ]
     },
     "metadata": {},
     "output_type": "display_data"
    },
    {
     "data": {
      "text/plain": [
       "              Df  Sum Sq Mean Sq F value Pr(>F)\n",
       "soil_category  3 0.04543 0.01515   0.591  0.638\n",
       "Residuals      8 0.20513 0.02564               "
      ]
     },
     "metadata": {},
     "output_type": "display_data"
    }
   ],
   "source": [
    "model2<-aov(Na ~ soil_category,data = grevillia_data)\n",
    "model2\n",
    "\n",
    "summary(model2)"
   ]
  },
  {
   "cell_type": "code",
   "execution_count": 16,
   "metadata": {},
   "outputs": [
    {
     "data": {
      "text/plain": [
       "Call:\n",
       "   aov(formula = P_log ~ soil_category, data = grevillia_data)\n",
       "\n",
       "Terms:\n",
       "                soil_category Residuals\n",
       "Sum of Squares      0.0177289 0.4555086\n",
       "Deg. of Freedom             3         8\n",
       "\n",
       "Residual standard error: 0.238618\n",
       "Estimated effects may be unbalanced"
      ]
     },
     "metadata": {},
     "output_type": "display_data"
    },
    {
     "data": {
      "text/plain": [
       "              Df Sum Sq Mean Sq F value Pr(>F)\n",
       "soil_category  3 0.0177 0.00591   0.104  0.956\n",
       "Residuals      8 0.4555 0.05694               "
      ]
     },
     "metadata": {},
     "output_type": "display_data"
    }
   ],
   "source": [
    "model3<-aov(P_log ~ soil_category,data = grevillia_data)\n",
    "model3\n",
    "\n",
    "summary(model3)"
   ]
  },
  {
   "cell_type": "code",
   "execution_count": 17,
   "metadata": {},
   "outputs": [
    {
     "data": {
      "text/plain": [
       "Call:\n",
       "   aov(formula = organic_carbon ~ soil_category, data = grevillia_data)\n",
       "\n",
       "Terms:\n",
       "                soil_category Residuals\n",
       "Sum of Squares      2.0605940 0.7206727\n",
       "Deg. of Freedom             3         8\n",
       "\n",
       "Residual standard error: 0.3001401\n",
       "Estimated effects may be unbalanced"
      ]
     },
     "metadata": {},
     "output_type": "display_data"
    },
    {
     "data": {
      "text/plain": [
       "              Df Sum Sq Mean Sq F value  Pr(>F)   \n",
       "soil_category  3 2.0606  0.6869   7.625 0.00987 **\n",
       "Residuals      8 0.7207  0.0901                   \n",
       "---\n",
       "Signif. codes:  0 '***' 0.001 '**' 0.01 '*' 0.05 '.' 0.1 ' ' 1"
      ]
     },
     "metadata": {},
     "output_type": "display_data"
    }
   ],
   "source": [
    "model4<-aov(organic_carbon ~ soil_category,data = grevillia_data)\n",
    "model4\n",
    "\n",
    "summary(model4)"
   ]
  },
  {
   "cell_type": "code",
   "execution_count": 18,
   "metadata": {},
   "outputs": [
    {
     "data": {
      "text/plain": [
       "  Tukey multiple comparisons of means\n",
       "    95% family-wise confidence level\n",
       "\n",
       "Fit: aov(formula = organic_carbon ~ soil_category, data = grevillia_data)\n",
       "\n",
       "$soil_category\n",
       "          diff        lwr        upr     p adj\n",
       "B-A  1.1413333  0.3565542 1.92611251 0.0070749\n",
       "C-A  0.3983333 -0.3864458 1.18311251 0.4176870\n",
       "D-A  0.3683333 -0.4164458 1.15311251 0.4784995\n",
       "C-B -0.7430000 -1.5277792 0.04177918 0.0635864\n",
       "D-B -0.7730000 -1.5577792 0.01177918 0.0535009\n",
       "D-C -0.0300000 -0.8147792 0.75477918 0.9992870\n"
      ]
     },
     "metadata": {},
     "output_type": "display_data"
    }
   ],
   "source": [
    "#post hoc tukey test\n",
    "TukeyHSD(model4)"
   ]
  },
  {
   "cell_type": "code",
   "execution_count": 21,
   "metadata": {},
   "outputs": [
    {
     "data": {
      "text/plain": [
       "Call:\n",
       "   aov(formula = moist ~ soil_category, data = grevillia_data)\n",
       "\n",
       "Terms:\n",
       "                soil_category   Residuals\n",
       "Sum of Squares    0.001003894 0.003995486\n",
       "Deg. of Freedom             3           8\n",
       "\n",
       "Residual standard error: 0.02234806\n",
       "Estimated effects may be unbalanced"
      ]
     },
     "metadata": {},
     "output_type": "display_data"
    },
    {
     "data": {
      "text/plain": [
       "              Df   Sum Sq   Mean Sq F value Pr(>F)\n",
       "soil_category  3 0.001004 0.0003346    0.67  0.594\n",
       "Residuals      8 0.003995 0.0004994               "
      ]
     },
     "metadata": {},
     "output_type": "display_data"
    }
   ],
   "source": [
    "##How do the soils' moisture content manifest in Eucalyptus plantation\n",
    "#t test\n",
    "model<-aov(moist ~ soil_category, data = grevillia_data)\n",
    "model\n",
    "\n",
    "summary(model)"
   ]
  },
  {
   "cell_type": "code",
   "execution_count": null,
   "metadata": {},
   "outputs": [],
   "source": []
  }
 ],
 "metadata": {
  "kernelspec": {
   "display_name": "R",
   "language": "R",
   "name": "ir"
  },
  "language_info": {
   "codemirror_mode": "r",
   "file_extension": ".r",
   "mimetype": "text/x-r-source",
   "name": "R",
   "pygments_lexer": "r",
   "version": "3.5.3"
  }
 },
 "nbformat": 4,
 "nbformat_minor": 2
}
