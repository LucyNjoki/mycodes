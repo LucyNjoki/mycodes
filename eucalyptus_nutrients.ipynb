{
 "cells": [
  {
   "cell_type": "markdown",
   "metadata": {},
   "source": [
    "Purpose:\n",
    "Testing significant difference in nutrients content in eucalyptus area (Using one way ANOVA because i am comparing one IV with the DV )\n",
    "Date: April 18,2019\n",
    "Edited: April 23,2019\n",
    "By: Lucy Njoki"
   ]
  },
  {
   "cell_type": "code",
   "execution_count": 1,
   "metadata": {},
   "outputs": [],
   "source": [
    "rm(list=ls())"
   ]
  },
  {
   "cell_type": "code",
   "execution_count": 2,
   "metadata": {},
   "outputs": [],
   "source": [
    "#setting up the working directory\n",
    "setwd(\"D:\\\\NJUKI\\\\Community Ecology Analysis\\\\Clean Data\")"
   ]
  },
  {
   "cell_type": "code",
   "execution_count": null,
   "metadata": {},
   "outputs": [],
   "source": [
    "#importing data\n",
    "eucalyptus_data<-read.table(\"D:\\\\NJUKI\\\\Community Ecology Analysis\\\\Clean Data\\\\eucalyptus_plantation.txt\",sep = \"\",header = TRUE)\n",
    "eucalyptus_data"
   ]
  },
  {
   "cell_type": "code",
   "execution_count": null,
   "metadata": {},
   "outputs": [],
   "source": [
    "attach(eucalyptus_data)"
   ]
  },
  {
   "cell_type": "code",
   "execution_count": null,
   "metadata": {},
   "outputs": [],
   "source": [
    "str(eucalyptus_data)"
   ]
  },
  {
   "cell_type": "code",
   "execution_count": null,
   "metadata": {},
   "outputs": [],
   "source": [
    "#variables names\n",
    "colnames(eucalyptus_data)"
   ]
  },
  {
   "cell_type": "code",
   "execution_count": null,
   "metadata": {},
   "outputs": [],
   "source": [
    "#normality test\n",
    "shapiro.test(N)\n",
    "shapiro.test(Na)\n",
    "shapiro.test(K)\n",
    "shapiro.test(P)\n",
    "shapiro.test(organic_carbon)\n",
    "shapiro.test(moisture)"
   ]
  },
  {
   "cell_type": "code",
   "execution_count": null,
   "metadata": {},
   "outputs": [],
   "source": [
    "library(\"ggpubr\")\n",
    "library(\"ggplot2\")\n",
    "library(\"magrittr\")\n",
    "ggqqplot(organic_carbon)"
   ]
  },
  {
   "cell_type": "code",
   "execution_count": null,
   "metadata": {},
   "outputs": [],
   "source": [
    "#arcsine transformation\n",
    "moist<- asin(moisture/100)\n",
    "moist\n",
    "\n",
    "moist1<- asin(moisture/100) * 2/pi # giving transformed values to 0,1 scale\n",
    "moist1"
   ]
  },
  {
   "cell_type": "code",
   "execution_count": null,
   "metadata": {},
   "outputs": [],
   "source": [
    "library(\"rcompanion\")\n",
    "plotNormalHistogram(moist)"
   ]
  },
  {
   "cell_type": "code",
   "execution_count": null,
   "metadata": {},
   "outputs": [],
   "source": [
    "shapiro.test(moist)\n",
    "shapiro.test(moist1)"
   ]
  },
  {
   "cell_type": "code",
   "execution_count": null,
   "metadata": {},
   "outputs": [],
   "source": [
    "#Testing significant difference in nutrients content between the two growing areas\n",
    "#anova model\n",
    "fit0<- aov(N ~ soil_category,data = eucalyptus_data)\n",
    "fit0\n",
    "\n",
    "summary(fit0)"
   ]
  },
  {
   "cell_type": "code",
   "execution_count": null,
   "metadata": {},
   "outputs": [],
   "source": [
    "fit1<- aov(Na ~ soil_category,data = eucalyptus_data)\n",
    "fit1\n",
    "\n",
    "summary(fit1) "
   ]
  },
  {
   "cell_type": "code",
   "execution_count": null,
   "metadata": {},
   "outputs": [],
   "source": [
    "fit2<- aov(P_log ~ soil_category,data = eucalyptus_data)\n",
    "fit2\n",
    "\n",
    "summary(fit2)"
   ]
  },
  {
   "cell_type": "code",
   "execution_count": null,
   "metadata": {},
   "outputs": [],
   "source": [
    "fit3<- aov(K ~ soil_category,data = eucalyptus_data)\n",
    "fit3\n",
    "\n",
    "summary(fit3)"
   ]
  },
  {
   "cell_type": "code",
   "execution_count": null,
   "metadata": {},
   "outputs": [],
   "source": [
    "fit4<- aov(organic_carbon ~ soil_category,data = eucalyptus_data)\n",
    "fit4\n",
    "\n",
    "summary(fit4)"
   ]
  },
  {
   "cell_type": "code",
   "execution_count": null,
   "metadata": {},
   "outputs": [],
   "source": [
    "#How do the soils' moisture content manifest in Grevillea stand?\n",
    "#transforming moisture variable\n",
    "moist<-asin(moisture/100)\n",
    "moist\n",
    "\n",
    "#t test\n",
    "fit<-aov(moist ~ soil_category, data = eucalyptus_data)\n",
    "fit\n",
    "\n",
    "summary(fit)"
   ]
  }
 ],
 "metadata": {
  "kernelspec": {
   "display_name": "R",
   "language": "R",
   "name": "ir"
  },
  "language_info": {
   "codemirror_mode": "r",
   "file_extension": ".r",
   "mimetype": "text/x-r-source",
   "name": "R",
   "pygments_lexer": "r",
   "version": "3.5.3"
  }
 },
 "nbformat": 4,
 "nbformat_minor": 2
}
